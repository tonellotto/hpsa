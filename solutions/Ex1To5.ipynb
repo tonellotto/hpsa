{
 "cells": [
  {
   "cell_type": "markdown",
   "metadata": {},
   "source": [
    "# Exercises 1To5\n",
    "\n",
    "1. Compute the average word length of shakespeare.txt.\n",
    "2. Compute the word length distribution of shakespeare.txt.\n",
    "3. Find the most frequent words of shakespeare.txt.\n",
    "4. Count the number of words of shakespeare.txt starting with each letter of the alphabet.\n",
    "5. Find the words pair most co-occurring next to each other of shakespeare.txt"
   ]
  },
  {
   "cell_type": "markdown",
   "metadata": {},
   "source": [
    "## Loading all libraries"
   ]
  },
  {
   "cell_type": "code",
   "execution_count": 1,
   "metadata": {
    "collapsed": true
   },
   "outputs": [],
   "source": [
    "# import spark\n",
    "from pyspark import SparkContext\n",
    "# initialize a new Spark Context to use for the execution of the script\n",
    "sc = SparkContext(appName=\"MY-APP-NAME\", master=\"local[*]\")\n",
    "# prevent useless logging messages\n",
    "sc.setLogLevel(\"ERROR\")"
   ]
  },
  {
   "cell_type": "code",
   "execution_count": 2,
   "metadata": {
    "collapsed": true
   },
   "outputs": [],
   "source": [
    "%matplotlib inline\n",
    "\n",
    "import matplotlib.pyplot as plt\n",
    "import re"
   ]
  },
  {
   "cell_type": "markdown",
   "metadata": {},
   "source": [
    "## Read the input file"
   ]
  },
  {
   "cell_type": "code",
   "execution_count": 3,
   "metadata": {
    "collapsed": true
   },
   "outputs": [],
   "source": [
    "shakespeare_rdd = sc.textFile(\"hdfs://masterbig-1.itc.unipi.it:54310/masterbig_data/shakespeare.txt\")"
   ]
  },
  {
   "cell_type": "markdown",
   "metadata": {},
   "source": [
    "Check the content of `shakespeare_rdd`"
   ]
  },
  {
   "cell_type": "code",
   "execution_count": 4,
   "metadata": {
    "collapsed": false
   },
   "outputs": [
    {
     "data": {
      "text/plain": [
       "['This is the 100th Etext file presented by Project Gutenberg, and',\n",
       " 'is presented in cooperation with World Library, Inc., from their',\n",
       " 'Library of the Future and Shakespeare CDROMS.  Project Gutenberg',\n",
       " 'often releases Etexts that are NOT placed in the Public Domain!!']"
      ]
     },
     "execution_count": 4,
     "metadata": {},
     "output_type": "execute_result"
    }
   ],
   "source": [
    "shakespeare_rdd.take(4)"
   ]
  },
  {
   "cell_type": "markdown",
   "metadata": {},
   "source": [
    "Clean the rdd of lines lowering the upper case characters and removing the non [a-z0-9 ] characters"
   ]
  },
  {
   "cell_type": "code",
   "execution_count": 5,
   "metadata": {
    "collapsed": true
   },
   "outputs": [],
   "source": [
    "pattern = re.compile(\"[^a-z0-9 ]+\")\n",
    "shakespeare_clean_rdd = shakespeare_rdd.map(lambda line: pattern.sub(' ', line.lower()))"
   ]
  },
  {
   "cell_type": "markdown",
   "metadata": {},
   "source": [
    "## Ex1 - Average word length"
   ]
  },
  {
   "cell_type": "markdown",
   "metadata": {},
   "source": [
    "Compute the average word length of shakespeare.txt."
   ]
  },
  {
   "cell_type": "code",
   "execution_count": 6,
   "metadata": {
    "collapsed": false
   },
   "outputs": [],
   "source": [
    "lengths_rdd = shakespeare_clean_rdd.flatMap(lambda line: [len(w) for w in line.split()])"
   ]
  },
  {
   "cell_type": "code",
   "execution_count": 7,
   "metadata": {
    "collapsed": false
   },
   "outputs": [
    {
     "name": "stdout",
     "output_type": "stream",
     "text": [
      "The average word length is 4.08\n"
     ]
    }
   ],
   "source": [
    "print(\"The average word length is {:.2f}\".format(lengths_rdd.sum() / lengths_rdd.count()))"
   ]
  },
  {
   "cell_type": "markdown",
   "metadata": {
    "deletable": true,
    "editable": true
   },
   "source": [
    "## Ex2 - Word length distribution"
   ]
  },
  {
   "cell_type": "markdown",
   "metadata": {},
   "source": [
    "Compute the word length distribution of shakespeare.txt."
   ]
  },
  {
   "cell_type": "code",
   "execution_count": 8,
   "metadata": {
    "collapsed": true
   },
   "outputs": [],
   "source": [
    "length_to_count = shakespeare_clean_rdd\\\n",
    "    .flatMap(lambda line: [(len(w), 1) for w in line.split()])\\\n",
    "    .reduceByKey(lambda l, r: l+r)\\\n",
    "    .collect()"
   ]
  },
  {
   "cell_type": "code",
   "execution_count": 9,
   "metadata": {
    "collapsed": false
   },
   "outputs": [
    {
     "name": "stdout",
     "output_type": "stream",
     "text": [
      "{1: 11168, 2: 29875, 3: 35105, 4: 38089, 5: 20220, 6: 13961, 7: 9950, 8: 6520, 9: 3517, 10: 2056, 11: 730, 12: 248, 13: 79, 14: 17, 15: 6}\n"
     ]
    }
   ],
   "source": [
    "print(dict(length_to_count))"
   ]
  },
  {
   "cell_type": "markdown",
   "metadata": {},
   "source": [
    "Plot the result"
   ]
  },
  {
   "cell_type": "code",
   "execution_count": 10,
   "metadata": {
    "collapsed": false
   },
   "outputs": [
    {
     "data": {
      "image/png": "[encoded data removed]",
      "text/plain": [
       "<Figure size 1500x500 with 1 Axes>"
      ]
     },
     "metadata": {},
     "output_type": "display_data"
    }
   ],
   "source": [
    "plt.figure(figsize=(15,5))\n",
    "plt.bar(\n",
    "    x=[length for length, count in length_to_count],\n",
    "    height=[count for length, count in length_to_count]\n",
    ")\n",
    "plt.show()"
   ]
  },
  {
   "cell_type": "markdown",
   "metadata": {},
   "source": [
    "## Ex3 - Most frequent words"
   ]
  },
  {
   "cell_type": "markdown",
   "metadata": {},
   "source": [
    "Find the most frequent words of shakespeare.txt."
   ]
  },
  {
   "cell_type": "code",
   "execution_count": 11,
   "metadata": {
    "collapsed": false
   },
   "outputs": [
    {
     "data": {
      "text/plain": [
       "[('the', 4893),\n",
       " ('and', 4440),\n",
       " ('i', 4254),\n",
       " ('to', 3775),\n",
       " ('of', 3435),\n",
       " ('you', 2855),\n",
       " ('a', 2547),\n",
       " ('that', 2261),\n",
       " ('my', 2185),\n",
       " ('in', 2075)]"
      ]
     },
     "execution_count": 11,
     "metadata": {},
     "output_type": "execute_result"
    }
   ],
   "source": [
    "shakespeare_clean_rdd\\\n",
    "    .flatMap(lambda line: [(w, 1) for w in line.split()])\\\n",
    "    .reduceByKey(lambda x, y: x+y)\\\n",
    "    .takeOrdered(10, (lambda pair: -pair[1]))"
   ]
  },
  {
   "cell_type": "markdown",
   "metadata": {},
   "source": [
    "## Ex4 - Number of words starting with each letter"
   ]
  },
  {
   "cell_type": "markdown",
   "metadata": {},
   "source": [
    "Count the number of words of shakespeare.txt starting with each letter of the alphabet."
   ]
  },
  {
   "cell_type": "code",
   "execution_count": 12,
   "metadata": {
    "collapsed": false
   },
   "outputs": [],
   "source": [
    "letters_to_count = shakespeare_clean_rdd\\\n",
    "    .flatMap(lambda line: [(w[0], 1) for w in line.split()])\\\n",
    "    .reduceByKey(lambda x,y: x+y)\\\n",
    "    .sortByKey()\\\n",
    "    .collect()"
   ]
  },
  {
   "cell_type": "code",
   "execution_count": 13,
   "metadata": {
    "collapsed": false
   },
   "outputs": [
    {
     "name": "stdout",
     "output_type": "stream",
     "text": [
      "{'t': 23800, 'v': 1124, '9': 15, 'q': 317, 'p': 4930, 'l': 5607, 's': 14146, 'n': 4991, 'k': 1244, 'd': 7121, 'c': 7079, 'o': 8232, 'x': 14, 'r': 2902, 'm': 10428, '5': 19, 'a': 15506, '7': 16, 'e': 3832, '3': 35, 'y': 5051, '8': 14, '0': 6, 'u': 1599, 'z': 5, '4': 34, 'g': 3519, 'w': 11362, 'i': 11733, 'j': 414, 'h': 11247, '1': 209, 'b': 8272, 'f': 6634, '2': 68, '6': 16}\n"
     ]
    }
   ],
   "source": [
    "print(dict(letters_to_count))"
   ]
  },
  {
   "cell_type": "markdown",
   "metadata": {},
   "source": [
    "Plot the result"
   ]
  },
  {
   "cell_type": "code",
   "execution_count": 14,
   "metadata": {
    "collapsed": false
   },
   "outputs": [
    {
     "data": {
      "image/png": "[encoded data removed]",
      "text/plain": [
       "<Figure size 1500x500 with 1 Axes>"
      ]
     },
     "metadata": {},
     "output_type": "display_data"
    }
   ],
   "source": [
    "plt.figure(figsize=(15,5))\n",
    "plt.bar(\n",
    "    x=[l for l, freq in letters_to_count],\n",
    "    height=[freq for l, freq in letters_to_count]\n",
    ")\n",
    "plt.show()"
   ]
  },
  {
   "cell_type": "markdown",
   "metadata": {
    "deletable": true,
    "editable": true
   },
   "source": [
    "## Ex5 - Compute the bigrams"
   ]
  },
  {
   "cell_type": "markdown",
   "metadata": {},
   "source": [
    "Find the words pair most co-occurring next to each other of shakespeare.txt"
   ]
  },
  {
   "cell_type": "code",
   "execution_count": 15,
   "metadata": {
    "collapsed": false
   },
   "outputs": [
    {
     "data": {
      "text/plain": [
       "[(('i', 'am'), 344),\n",
       " (('i', 'have'), 321),\n",
       " (('i', 'll'), 308),\n",
       " (('of', 'the'), 305),\n",
       " (('in', 'the'), 259),\n",
       " (('i', 'will'), 247),\n",
       " (('to', 'the'), 238),\n",
       " (('of', 'syracuse'), 233),\n",
       " (('antipholus', 'of'), 202),\n",
       " (('it', 'is'), 200)]"
      ]
     },
     "execution_count": 15,
     "metadata": {},
     "output_type": "execute_result"
    }
   ],
   "source": [
    "def line_to_bigram(line):\n",
    "    words = line.split()\n",
    "    return [(words[i-1], words[i]) for i in range(1, len(words))]\n",
    "\n",
    "shakespeare_clean_rdd\\\n",
    "    .flatMap(line_to_bigram)\\\n",
    "    .map(lambda bigram: (bigram, 1))\\\n",
    "    .reduceByKey(lambda x,y: x+y)\\\n",
    "    .takeOrdered(10, (lambda pair: -pair[1]))"
   ]
  }
 ],
 "metadata": {
  "kernelspec": {
   "display_name": "Python 3",
   "language": "python",
   "name": "python3"
  },
  "language_info": {
   "codemirror_mode": {
    "name": "ipython",
    "version": 3
   },
   "file_extension": ".py",
   "mimetype": "text/x-python",
   "name": "python",
   "nbconvert_exporter": "python",
   "pygments_lexer": "ipython3",
   "version": "3.4.3"
  }
 },
 "nbformat": 4,
 "nbformat_minor": 2
}
