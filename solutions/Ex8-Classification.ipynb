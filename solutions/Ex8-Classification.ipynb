{
 "cells": [
  {
   "cell_type": "markdown",
   "metadata": {},
   "source": [
    "# Exercise 8 - Classification\n",
    "\n",
    "Fit a LogisticRegressionWithLBFGS classification model to the `2013_Queensland_Floods-ontopic_offtopic.csv` csv file."
   ]
  },
  {
   "cell_type": "markdown",
   "metadata": {},
   "source": [
    "## Loading all libraries"
   ]
  },
  {
   "cell_type": "code",
   "execution_count": 1,
   "metadata": {
    "collapsed": true,
    "deletable": true,
    "editable": true
   },
   "outputs": [],
   "source": [
    "# import spark\n",
    "from pyspark import SparkContext\n",
    "# initialize a new Spark Context to use for the execution of the script\n",
    "sc = SparkContext(appName=\"MY-APP-NAME\", master=\"local[*]\")\n",
    "# prevent useless logging messages\n",
    "sc.setLogLevel(\"ERROR\")"
   ]
  },
  {
   "cell_type": "code",
   "execution_count": 2,
   "metadata": {
    "collapsed": true,
    "deletable": true,
    "editable": true
   },
   "outputs": [],
   "source": [
    "%matplotlib inline\n",
    "\n",
    "import matplotlib.pyplot as plt\n",
    "import pandas as pd\n",
    "import re\n",
    "import seaborn as sn\n",
    "from pyspark.mllib.tree import GradientBoostedTrees\n",
    "from pyspark.mllib.feature import HashingTF\n",
    "from pyspark.mllib.classification import LabeledPoint\n",
    "from pyspark.mllib.classification import LogisticRegressionWithLBFGS"
   ]
  },
  {
   "cell_type": "markdown",
   "metadata": {
    "deletable": true,
    "editable": true
   },
   "source": [
    "## Read the input file"
   ]
  },
  {
   "cell_type": "code",
   "execution_count": 3,
   "metadata": {
    "collapsed": true,
    "deletable": true,
    "editable": true
   },
   "outputs": [],
   "source": [
    "all_tweets_raw_rdd = sc.textFile(\"hdfs://masterbig-1.itc.unipi.it:54310/masterbig_data/CrisisLexT6/2013_Queensland_Floods/2013_Queensland_Floods-ontopic_offtopic.csv\")"
   ]
  },
  {
   "cell_type": "markdown",
   "metadata": {},
   "source": [
    "Check the content of `all_tweets_raw_rdd` and count the number of tweets"
   ]
  },
  {
   "cell_type": "code",
   "execution_count": 4,
   "metadata": {
    "collapsed": false,
    "deletable": true,
    "editable": true
   },
   "outputs": [
    {
     "data": {
      "text/plain": [
       "['tweet id, tweet, label',\n",
       " '\\'296728042179534848\\',\"@MarkSDobson I always thought that, big lad aint he, must pump some serious lead! Unless he is on the gear like @darrennorton60 #Jabber\",off-topic',\n",
       " '\\'296085045645570048\\',\"@thamonstar a lot of water moving around and a bit dirty. Probably should give it a miss today\",on-topic',\n",
       " '\\'296811076400603136\\',\"Craig Thompson to be extradited to Victoria on 149 fraud charges. Oh to be on the plane, with him in handcuffs. #auspol\",off-topic',\n",
       " '\\'295357934387486720\\',\"Sunshine state, sort your shit out.\",off-topic']"
      ]
     },
     "execution_count": 4,
     "metadata": {},
     "output_type": "execute_result"
    }
   ],
   "source": [
    "all_tweets_raw_rdd.take(5)"
   ]
  },
  {
   "cell_type": "code",
   "execution_count": 5,
   "metadata": {
    "collapsed": false,
    "deletable": true,
    "editable": true
   },
   "outputs": [
    {
     "data": {
      "text/plain": [
       "10034"
      ]
     },
     "execution_count": 5,
     "metadata": {},
     "output_type": "execute_result"
    }
   ],
   "source": [
    "all_tweets_raw_rdd.count()"
   ]
  },
  {
   "cell_type": "markdown",
   "metadata": {},
   "source": [
    "## Data preparation"
   ]
  },
  {
   "cell_type": "markdown",
   "metadata": {},
   "source": [
    "Create a HashingTF instance to map tweet's text to a vectors of 10000 features."
   ]
  },
  {
   "cell_type": "code",
   "execution_count": 6,
   "metadata": {
    "collapsed": false,
    "deletable": true,
    "editable": true
   },
   "outputs": [],
   "source": [
    "tf = HashingTF(numFeatures = 10000)"
   ]
  },
  {
   "cell_type": "markdown",
   "metadata": {},
   "source": [
    "Preprocess the tweets to transform the texts into vectors and extract the labels. Lastly, creates the LabeledPoints"
   ]
  },
  {
   "cell_type": "code",
   "execution_count": 7,
   "metadata": {
    "collapsed": false,
    "deletable": true,
    "editable": true
   },
   "outputs": [],
   "source": [
    "def proc_raw_tweet(line):\n",
    "    lp, rp = line.find(\",\"), line.rfind(\",\")\n",
    "    tweet, label = line[lp+1:rp], line[rp+1:]\n",
    "\n",
    "    tweet = re.sub(r\"[^a-z#]\", \" \", tweet.lower())\n",
    "    tweet_features = tf.transform(tweet.split())\n",
    "    tweet_label = 1 if label == \"on-topic\" else 0\n",
    "\n",
    "    return LabeledPoint(tweet_label, tweet_features)\n",
    "\n",
    "all_tweets_rdd = all_tweets_raw_rdd\\\n",
    "    .filter(lambda line: line.startswith(\"'\"))\\\n",
    "    .map(proc_raw_tweet)"
   ]
  },
  {
   "cell_type": "markdown",
   "metadata": {},
   "source": [
    "Check the content of `all_tweets_rdd`"
   ]
  },
  {
   "cell_type": "code",
   "execution_count": 8,
   "metadata": {
    "collapsed": false,
    "deletable": true,
    "editable": true
   },
   "outputs": [
    {
     "data": {
      "text/plain": [
       "[LabeledPoint(0.0, (10000,[367,777,1136,2098,2744,3185,3317,3387,3870,4199,5016,5167,5554,5608,5840,6470,6826,7061,7495,7981,8308,9852],[1.0,1.0,1.0,1.0,1.0,1.0,1.0,1.0,1.0,1.0,2.0,1.0,1.0,1.0,1.0,1.0,1.0,1.0,1.0,1.0,1.0,1.0])),\n",
       " LabeledPoint(1.0, (10000,[909,2028,2056,2145,3080,3289,3362,3645,4283,5511,5601,6676,7003,8219,9101,9485],[1.0,1.0,1.0,1.0,1.0,3.0,1.0,1.0,1.0,1.0,1.0,1.0,1.0,1.0,1.0,1.0])),\n",
       " LabeledPoint(0.0, (10000,[365,1040,2837,3285,3317,3757,4373,4471,5799,5943,6052,6664,6712,7115,7119,7495,9466],[3.0,1.0,1.0,1.0,1.0,1.0,2.0,1.0,1.0,1.0,1.0,1.0,1.0,1.0,1.0,2.0,1.0])),\n",
       " LabeledPoint(0.0, (10000,[10,4342,6147,7872,9842,9937],[1.0,1.0,1.0,1.0,1.0,1.0])),\n",
       " LabeledPoint(0.0, (10000,[777,1969,2245,2744,3140,3289,3290,4770,5016,5764,7003,8417,9264,9503,9546],[1.0,1.0,1.0,1.0,1.0,1.0,1.0,1.0,1.0,1.0,1.0,1.0,1.0,1.0,1.0]))]"
      ]
     },
     "execution_count": 8,
     "metadata": {},
     "output_type": "execute_result"
    }
   ],
   "source": [
    "all_tweets_rdd.take(5)"
   ]
  },
  {
   "cell_type": "markdown",
   "metadata": {},
   "source": [
    "Split the dataset into train and test using the proportion 70-30"
   ]
  },
  {
   "cell_type": "code",
   "execution_count": 9,
   "metadata": {
    "collapsed": false,
    "deletable": true,
    "editable": true
   },
   "outputs": [],
   "source": [
    "train_tweets_rdd, test_tweets_rdd = all_tweets_rdd.randomSplit([0.7,0.3])"
   ]
  },
  {
   "cell_type": "markdown",
   "metadata": {},
   "source": [
    "## Training & Predict"
   ]
  },
  {
   "cell_type": "markdown",
   "metadata": {},
   "source": [
    "Cache the `train_tweets_rdd` for efficiency purposes. It avoids multiple computations of the same intermediate results by caching them."
   ]
  },
  {
   "cell_type": "code",
   "execution_count": 10,
   "metadata": {
    "collapsed": false,
    "deletable": true,
    "editable": true
   },
   "outputs": [
    {
     "data": {
      "text/plain": [
       "PythonRDD[5] at RDD at PythonRDD.scala:48"
      ]
     },
     "execution_count": 10,
     "metadata": {},
     "output_type": "execute_result"
    }
   ],
   "source": [
    "train_tweets_rdd.cache()"
   ]
  },
  {
   "cell_type": "markdown",
   "metadata": {},
   "source": [
    "Fetch the test labels to compute the accuracy of the tested models (next)"
   ]
  },
  {
   "cell_type": "code",
   "execution_count": 11,
   "metadata": {
    "collapsed": false,
    "deletable": true,
    "editable": true
   },
   "outputs": [],
   "source": [
    "test_labels_rdd = test_tweets_rdd.map(lambda lp: lp.label)"
   ]
  },
  {
   "cell_type": "markdown",
   "metadata": {},
   "source": [
    "Define a `confusion_matrix` function to compute and plot the confusion matrix"
   ]
  },
  {
   "cell_type": "code",
   "execution_count": 12,
   "metadata": {
    "collapsed": false,
    "deletable": true,
    "editable": true
   },
   "outputs": [],
   "source": [
    "def confusion_matrix(labels, predictions):\n",
    "    counts_rdd = predictions.zip(labels).map(lambda k: (k,1)).reduceByKey(lambda l,r: l+r)\n",
    "    counts = dict(((i,j),0) for i in [0,1] for j in [0,1])  # set to 0 all the entries\n",
    "    counts.update( dict(counts_rdd.collect()) )  # update the non-0 entries\n",
    "    confusion_matrix = [\n",
    "        [\n",
    "            counts[(pred,act)]\n",
    "            for act in [0,1]\n",
    "        ] for pred in [0,1]\n",
    "    ]\n",
    "    df_cm = pd.DataFrame(confusion_matrix, index = [\"Pred 0\", \"Pred 1\"], columns = [\"Act 0\", \"Act 1\"])\n",
    "    sn.heatmap(df_cm, annot=True, fmt='', annot_kws={\"size\": 14})"
   ]
  },
  {
   "cell_type": "markdown",
   "metadata": {
    "deletable": true,
    "editable": true
   },
   "source": [
    "### Logistic Regression"
   ]
  },
  {
   "cell_type": "code",
   "execution_count": 13,
   "metadata": {
    "collapsed": false,
    "deletable": true,
    "editable": true
   },
   "outputs": [
    {
     "data": {
      "image/png": "[encoded data removed]",
      "text/plain": [
       "<Figure size 600x400 with 2 Axes>"
      ]
     },
     "metadata": {},
     "output_type": "display_data"
    }
   ],
   "source": [
    "model = LogisticRegressionWithLBFGS.train(train_tweets_rdd)\n",
    "test_predictions_rdd = test_tweets_rdd.map(lambda lp: model.predict(lp.features))\n",
    "\n",
    "confusion_matrix(test_labels_rdd, test_predictions_rdd)"
   ]
  },
  {
   "cell_type": "markdown",
   "metadata": {
    "deletable": true,
    "editable": true
   },
   "source": [
    "### Gradient Boost Classifier"
   ]
  },
  {
   "cell_type": "code",
   "execution_count": 14,
   "metadata": {
    "collapsed": false,
    "deletable": true,
    "editable": true
   },
   "outputs": [
    {
     "data": {
      "image/png": "[encoded data removed]",
      "text/plain": [
       "<Figure size 600x400 with 2 Axes>"
      ]
     },
     "metadata": {},
     "output_type": "display_data"
    }
   ],
   "source": [
    "model = GradientBoostedTrees.trainClassifier(train_tweets_rdd, categoricalFeaturesInfo={}, numIterations=10)\n",
    "test_predictions_rdd = model.predict(test_tweets_rdd.map(lambda lp: lp.features))\n",
    "\n",
    "confusion_matrix(test_labels_rdd, test_predictions_rdd)"
   ]
  },
  {
   "cell_type": "markdown",
   "metadata": {
    "deletable": true,
    "editable": true
   },
   "source": [
    "### WRONG EXAMPLE: the model is trained using also test tweets"
   ]
  },
  {
   "cell_type": "code",
   "execution_count": 15,
   "metadata": {
    "collapsed": false,
    "deletable": true,
    "editable": true
   },
   "outputs": [
    {
     "data": {
      "image/png": "[encoded data removed]",
      "text/plain": [
       "<Figure size 600x400 with 2 Axes>"
      ]
     },
     "metadata": {},
     "output_type": "display_data"
    }
   ],
   "source": [
    "model = LogisticRegressionWithLBFGS.train(all_tweets_rdd)\n",
    "test_predictions_rdd = test_tweets_rdd.map(lambda lp: model.predict(lp.features))\n",
    "\n",
    "confusion_matrix(test_labels_rdd, test_predictions_rdd)"
   ]
  }
 ],
 "metadata": {
  "kernelspec": {
   "display_name": "Python 3",
   "language": "python",
   "name": "python3"
  },
  "language_info": {
   "codemirror_mode": {
    "name": "ipython",
    "version": 3
   },
   "file_extension": ".py",
   "mimetype": "text/x-python",
   "name": "python",
   "nbconvert_exporter": "python",
   "pygments_lexer": "ipython3",
   "version": "3.4.3"
  }
 },
 "nbformat": 4,
 "nbformat_minor": 2
}
